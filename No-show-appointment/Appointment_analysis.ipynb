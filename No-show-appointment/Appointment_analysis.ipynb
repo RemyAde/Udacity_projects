{
 "cells": [
  {
   "cell_type": "markdown",
   "id": "331e0554",
   "metadata": {},
   "source": [
    "\n",
    "# Project: No-Show Appointment Dataset\n",
    "\n",
    "## Table of Contents\n",
    "<ul>\n",
    "<li><a href=\"#intro\">Introduction</a></li>\n",
    "<li><a href=\"#wrangling\">Data Wrangling</a></li>\n",
    "<li><a href=\"#eda\">Exploratory Data Analysis</a></li>\n",
    "<li><a href=\"#conclusions\">Conclusions</a></li>\n",
    "</ul>"
   ]
  },
  {
   "cell_type": "markdown",
   "id": "a28ad4ce",
   "metadata": {},
   "source": [
    "<a id='intro'></a>\n",
    "## Introduction\n",
    "\n",
    "> The **No-show Appointment dataset** is a collection from over 100k medical appointments in Brazil. It aims to understand   why patients show up or do not show up for their scheduled appointments. It takes into consideration the Neighbourhood of the patients, whether or not they are enrolled in the Brasilian welfare program, Illnesses they have.\n",
    "> Some other columns included are:\n",
    "<ul>\n",
    "    <li><b>PatientId</b></li>\n",
    "    <li><b>AppointmentDay</b></li>\n",
    "    <li><b>Age</b> - in years</li>\n",
    "    <li><b>Gender</b></li>\n",
    "    <li><b>No-show</b> (No - showed up/Yes - No-show)</li> \n",
    "</ul>\n",
    "\n",
    "### Questions:\n",
    "<ol>\n",
    "    <li><a href='#q1'>What Age group(s) barely show up?</a></li>\n",
    "    <li><a href='#q2'>What Day(s) of the week are people hardly showing up?</a></li>\n",
    "    <li><a href='#q3'>What Illness(es)/Condition(s) have a higher rate of not showing up?</a></li>\n",
    "</ol>"
   ]
  },
  {
   "cell_type": "code",
   "execution_count": null,
   "id": "e19a71f1",
   "metadata": {},
   "outputs": [],
   "source": [
    "import pandas as pd\n",
    "import numpy as np\n",
    "import seaborn as sns\n",
    "import matplotlib.pyplot as plt\n",
    "%matplotlib inline"
   ]
  },
  {
   "cell_type": "markdown",
   "id": "93b6923a",
   "metadata": {},
   "source": [
    "<a id='wrangling'></a>\n",
    "## Data Wrangling\n",
    "\n",
    "### General Properties"
   ]
  },
  {
   "cell_type": "code",
   "execution_count": null,
   "id": "fec119d4",
   "metadata": {},
   "outputs": [],
   "source": [
    "df = pd.read_csv('noshowappointments.csv')"
   ]
  },
  {
   "cell_type": "code",
   "execution_count": null,
   "id": "666bfadc",
   "metadata": {
    "scrolled": true
   },
   "outputs": [],
   "source": [
    "df.head()"
   ]
  },
  {
   "cell_type": "markdown",
   "id": "f2ef88b3",
   "metadata": {},
   "source": [
    "getting a first glance on the representation of each data column"
   ]
  },
  {
   "cell_type": "code",
   "execution_count": null,
   "id": "386c8c21",
   "metadata": {},
   "outputs": [],
   "source": [
    "df.info()"
   ]
  },
  {
   "cell_type": "markdown",
   "id": "e0279a79",
   "metadata": {},
   "source": [
    "Checking the datatypes for each column and null values if any"
   ]
  },
  {
   "cell_type": "code",
   "execution_count": null,
   "id": "13bc4683",
   "metadata": {},
   "outputs": [],
   "source": [
    "df.duplicated().sum()\n",
    "#checking for duplicated records"
   ]
  },
  {
   "cell_type": "code",
   "execution_count": null,
   "id": "9252201c",
   "metadata": {
    "scrolled": true
   },
   "outputs": [],
   "source": [
    "df.describe()"
   ]
  },
  {
   "cell_type": "markdown",
   "id": "a86a7802",
   "metadata": {},
   "source": [
    "Checking the statistical properties for the data"
   ]
  },
  {
   "cell_type": "markdown",
   "id": "85e552af",
   "metadata": {},
   "source": [
    "<b>The data is relatively clean but to work better with, the AppointmentDay column needs to be changed to datetime, the negative age row needs to be dropped and for better analysis the No-show column has to be made an integer datatype"
   ]
  },
  {
   "cell_type": "markdown",
   "id": "265ab9c5",
   "metadata": {},
   "source": [
    "### Data Cleaning:\n",
    "\n",
    "<ul>\n",
    "    <li>Dropping of the row where age corresponded to -1</li>\n",
    "    <li>Converting the No-show column to binary</li>\n",
    "    <li>Converting the AppointmentDay column to datetime object</li>\n",
    "</ul>"
   ]
  },
  {
   "cell_type": "code",
   "execution_count": null,
   "id": "8d8cc8c0",
   "metadata": {},
   "outputs": [],
   "source": [
    "df.query('Age == -1')"
   ]
  },
  {
   "cell_type": "code",
   "execution_count": null,
   "id": "7c2f4690",
   "metadata": {
    "scrolled": true
   },
   "outputs": [],
   "source": [
    "df.drop(labels=99832, axis=0, inplace=True)\n",
    "#rdropped row with age column as -1"
   ]
  },
  {
   "cell_type": "code",
   "execution_count": null,
   "id": "ee66f031",
   "metadata": {},
   "outputs": [],
   "source": [
    "df['No-show'].replace({'No':0, 'Yes':1}, inplace=True)\n",
    "#converting No-show column to binary integer column"
   ]
  },
  {
   "cell_type": "code",
   "execution_count": null,
   "id": "3e1fc60c",
   "metadata": {},
   "outputs": [],
   "source": [
    "df['AppointmentDay'] = df['AppointmentDay'].apply(pd.to_datetime)\n",
    "#converting column to datetime datatype"
   ]
  },
  {
   "cell_type": "code",
   "execution_count": null,
   "id": "e07e7e15",
   "metadata": {},
   "outputs": [],
   "source": [
    "df.head()"
   ]
  },
  {
   "cell_type": "markdown",
   "id": "042c4108",
   "metadata": {},
   "source": [
    "<a id='eda'></a>\n",
    "## Exploratory Data Analysis\n"
   ]
  },
  {
   "cell_type": "markdown",
   "id": "ed4d4586",
   "metadata": {},
   "source": [
    "## Functions\n",
    "\n",
    "#### plot function"
   ]
  },
  {
   "cell_type": "code",
   "execution_count": null,
   "id": "6935e884",
   "metadata": {},
   "outputs": [],
   "source": [
    "def viz_plot(data, color, label_x, label_y, title):\n",
    "    height = list(data.keys())\n",
    "    values = list(data.values())\n",
    "    \n",
    "    fig = plt.figure(figsize=(12,8))\n",
    "    plt.bar(height, values, color=color)\n",
    "    plt.xlabel(label_x, fontsize=14)\n",
    "    plt.ylabel(label_y, fontsize=14)\n",
    "    plt.title(title, fontsize=18)\n",
    "    plt.tick_params(left=False, bottom=False)"
   ]
  },
  {
   "cell_type": "markdown",
   "id": "86cbe074",
   "metadata": {},
   "source": [
    "<a id='q1'></a>\n",
    "### The Age Effect"
   ]
  },
  {
   "cell_type": "code",
   "execution_count": null,
   "id": "09a8c474",
   "metadata": {},
   "outputs": [],
   "source": [
    "child_df = df.query('Age >= 1 and Age <=12')\n",
    "teens_df = df.query('Age >=13 and Age <=19')\n",
    "youths_df = df.query('Age >=20 and Age<=30')\n",
    "Adults_df = df.query('Age >=31 and Age <=50')\n",
    "Aged_df = df.query('Age >=51')"
   ]
  },
  {
   "cell_type": "code",
   "execution_count": null,
   "id": "a3496163",
   "metadata": {},
   "outputs": [],
   "source": [
    "child_mean = child_df['No-show'].mean()\n",
    "teens_mean = teens_df['No-show'].mean()\n",
    "youths_mean = youths_df['No-show'].mean()\n",
    "adults_mean = Adults_df['No-show'].mean()\n",
    "aged_mean = Aged_df['No-show'].mean()"
   ]
  },
  {
   "cell_type": "code",
   "execution_count": null,
   "id": "f8019287",
   "metadata": {},
   "outputs": [],
   "source": [
    "mean_no_show_age = {'Children':child_mean, 'Teens':teens_mean, 'Youths':youths_mean, 'Adults':adults_mean, 'Aged':aged_mean}\n",
    "\n",
    "viz_plot(data=mean_no_show_age, color='maroon', label_x='Age Category', label_y='mean_No_show', title='Distribution of mean No-show Age Category')"
   ]
  },
  {
   "cell_type": "markdown",
   "id": "fd38d23f",
   "metadata": {},
   "source": [
    "<b>This shows the mean distribution of No-show across age categories</b>\n",
    "<p>The Aged, Adults and children attend more of their scheduled appointments as compared to the teenagers and youths<p>"
   ]
  },
  {
   "cell_type": "code",
   "execution_count": null,
   "id": "a36d4cb9",
   "metadata": {},
   "outputs": [],
   "source": [
    "fig = plt.figure(figsize=(10,8))\n",
    "location = [1,2,3,4,5]\n",
    "height = [child_mean, teens_mean, youths_mean, adults_mean,aged_mean]\n",
    "labels = ['Children', 'Teens', 'Youths', 'Adults', 'Aged']\n",
    "plt.plot(labels, height)\n",
    "plt.xticks(fontsize=12)\n",
    "plt.xlabel('Age Category', fontsize=14)\n",
    "plt.ylabel('mean_No-show', fontsize=14)\n",
    "plt.title('Line distribution of Mean_No-Show vs Age Category', fontsize=18)"
   ]
  },
  {
   "cell_type": "markdown",
   "id": "524b6042",
   "metadata": {},
   "source": [
    "This means <b>Youths</b> have a higher mean of not showing up for appointment\n",
    "\n",
    "#### Age group:\n",
    "<ul>\n",
    "    <li>Children - 1-12 </li>\n",
    "    <li>Teens - 13-19 </li>\n",
    "    <li>Youths - 20-30</li>\n",
    "    <li>Adults - 31-50</li>\n",
    "    <li>Aged - 51 and above</li>\n",
    "</ul>"
   ]
  },
  {
   "cell_type": "markdown",
   "id": "b367a1cc",
   "metadata": {},
   "source": [
    "<a id='q2'></a>\n",
    "### Day of the week Effect"
   ]
  },
  {
   "cell_type": "code",
   "execution_count": null,
   "id": "077b3660",
   "metadata": {},
   "outputs": [],
   "source": [
    "df['day'] = df['AppointmentDay'].dt.day_name()\n",
    "# making a column to for day of the week for the appointment"
   ]
  },
  {
   "cell_type": "code",
   "execution_count": null,
   "id": "f5e8491c",
   "metadata": {},
   "outputs": [],
   "source": [
    "df.head()"
   ]
  },
  {
   "cell_type": "code",
   "execution_count": null,
   "id": "404472d0",
   "metadata": {},
   "outputs": [],
   "source": [
    "mon_df = df.query('day == \"Monday\"')\n",
    "tue_df = df.query('day == \"Tuesday\"')\n",
    "wed_df = df.query('day == \"Wednesday\"')\n",
    "thur_df = df.query('day == \"Thursday\"')\n",
    "fri_df = df.query('day == \"Friday\"')\n",
    "sat_df = df.query('day == \"Saturday\"')"
   ]
  },
  {
   "cell_type": "markdown",
   "id": "ed6f617f",
   "metadata": {},
   "source": [
    "> Making dataframes that contain respective days of the week only"
   ]
  },
  {
   "cell_type": "code",
   "execution_count": null,
   "id": "1baf69ac",
   "metadata": {},
   "outputs": [],
   "source": [
    "mon_mean = mon_df['No-show'].mean()\n",
    "tue_mean = tue_df['No-show'].mean()\n",
    "wed_mean = wed_df['No-show'].mean()\n",
    "thur_mean = thur_df['No-show'].mean()\n",
    "fri_mean = fri_df['No-show'].mean()\n",
    "sat_mean = sat_df['No-show'].mean()"
   ]
  },
  {
   "cell_type": "markdown",
   "id": "f0d52c4b",
   "metadata": {},
   "source": [
    "> finding the mean no-show appointments for each day"
   ]
  },
  {
   "cell_type": "code",
   "execution_count": null,
   "id": "8c433679",
   "metadata": {},
   "outputs": [],
   "source": [
    "mean_no_show_day = {'Mon':mon_mean,'Tue':tue_mean, 'Wed':wed_mean, 'Thurs':thur_mean, 'Fri':fri_mean, 'Sat':sat_mean}\n",
    "viz_plot(data=mean_no_show_day, color='green', label_x='Day of week', label_y='No-show_mean', title='mean No-show vs Day of week')"
   ]
  },
  {
   "cell_type": "markdown",
   "id": "796c8b24",
   "metadata": {},
   "source": [
    "> From the graph, it shows people are more unfaithful to their appointments slated for the weekend (Friday & Saturday) than any other day. They give the heighest honour to thurday for showing up to their appiontments"
   ]
  },
  {
   "cell_type": "code",
   "execution_count": null,
   "id": "25da0027",
   "metadata": {},
   "outputs": [],
   "source": [
    "show_days = df[df['No-show']==0]['day'].value_counts()\n",
    "\n",
    "# data series trend for days of the week people show up for appointment"
   ]
  },
  {
   "cell_type": "code",
   "execution_count": null,
   "id": "f3aac28d",
   "metadata": {},
   "outputs": [],
   "source": [
    "fig = plt.figure(figsize=(12,8))\n",
    "data = [show_days[0], show_days[1],show_days[2],show_days[3],show_days[4],show_days[5]]\n",
    "labels = ['Wed', 'Tue', 'Mon', 'Fri', 'Thur', 'Sat']\n",
    "explode = [0.1, 0, 0, 0, 0.1, 0]\n",
    "plt.pie(data, labels=labels, autopct='%1.2f%%', explode=explode, shadow=True, startangle=60,textprops={'fontsize': 14})\n",
    "plt.title('Days of the week with attended Appointments\\n', fontsize=18)\n",
    "plt.show()"
   ]
  },
  {
   "cell_type": "markdown",
   "id": "e60865df",
   "metadata": {},
   "source": [
    "Saturday poses to be the day people hardly attended appointments, unlike Wednesday where are more than likely"
   ]
  },
  {
   "cell_type": "markdown",
   "id": "dce9cebd",
   "metadata": {},
   "source": [
    "<a id='q3'></a>\n",
    "### Illness Effect"
   ]
  },
  {
   "cell_type": "code",
   "execution_count": null,
   "id": "4068784e",
   "metadata": {},
   "outputs": [],
   "source": [
    "hipertension = df[df['Hipertension'] ==1]\n",
    "diabetes = df[df['Diabetes']==1]\n",
    "alcoholism = df[df['Alcoholism']==1]\n",
    "handicap = df[df['Handcap'] >0]"
   ]
  },
  {
   "cell_type": "code",
   "execution_count": null,
   "id": "5afdac05",
   "metadata": {},
   "outputs": [],
   "source": [
    "hiper_mean = hipertension['No-show'].mean()\n",
    "diab_mean = diabetes['No-show'].mean()\n",
    "alco_mean = alcoholism['No-show'].mean()\n",
    "hand_mean = handicap['No-show'].mean()"
   ]
  },
  {
   "cell_type": "code",
   "execution_count": null,
   "id": "6c4948fb",
   "metadata": {},
   "outputs": [],
   "source": [
    "illness_data = {'Hipertension':hiper_mean, 'Diabetes':diab_mean, 'Alcoholism':alco_mean, 'Handcap':hand_mean}\n",
    "viz_plot(data=illness_data, color='#00008b', label_x='Illness', label_y='No-show_mean', title='mean No-show vs Illness type')"
   ]
  },
  {
   "cell_type": "markdown",
   "id": "905ece9b",
   "metadata": {},
   "source": [
    "This means people who have an alcoholic condition tend to miss their appointment more than other illnesses"
   ]
  },
  {
   "cell_type": "markdown",
   "id": "5924e004",
   "metadata": {},
   "source": [
    "<a id='conclusions'></a>\n",
    "## Conclusions\n",
    "\n",
    "With the performed analysis, the tested factors of influence are;\n",
    "<ul>\n",
    "    <li>Age groups between 13-30 tend not to show up for appointments</li>\n",
    "    <li>Appointments set for the weekend tend to be futile</li>\n",
    "    <li>Patients who suffer from alcoholism tend to wait out on their appointments</li>\n",
    " </ul>\n",
    " \n",
    " > Other factors may also give rise to patients unavailablity to their appointments and combined facotrs too, such as age and Illness or a combination of two or more facors, but for this analysis, the above listed three factors were considered as the data is rich enough to consider alot of analysis.\n",
    " \n",
    " ### Limitations\n",
    " > The data tends to be inbalanced, as there are more enteries for patients who made their appointments than those who didn't.\n",
    " \n",
    " > The Handcap column had values of more than 1 (i.e 2,3,4) as compared to the other Illness columns"
   ]
  },
  {
   "cell_type": "markdown",
   "id": "986e9d00",
   "metadata": {},
   "source": [
    "## References\n",
    "\n",
    "1. [Matplotlib bars](https://www.geeksforgeeks.org/bar-plot-in-matplotlib/)\n",
    "2. [Day of week extracton](https://datascientyst.com/convert-datetime-day-of-week-name-number-in-pandas/#:~:text=Step%203%3A%20Extract%20Day%20number,weekday%20%2D%20alias)"
   ]
  }
 ],
 "metadata": {
  "interpreter": {
   "hash": "e8a0bcc7155301a1b9a2467b12422c3f6af08f2ccf10c3830d1459b6ba0f78cc"
  },
  "kernelspec": {
   "display_name": "Python 3.9.7 ('base')",
   "language": "python",
   "name": "python3"
  },
  "language_info": {
   "codemirror_mode": {
    "name": "ipython",
    "version": 3
   },
   "file_extension": ".py",
   "mimetype": "text/x-python",
   "name": "python",
   "nbconvert_exporter": "python",
   "pygments_lexer": "ipython3",
   "version": "3.9.7"
  }
 },
 "nbformat": 4,
 "nbformat_minor": 5
}
