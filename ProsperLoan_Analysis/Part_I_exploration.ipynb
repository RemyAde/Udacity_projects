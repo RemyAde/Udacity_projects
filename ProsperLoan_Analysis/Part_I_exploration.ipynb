{
 "cells": [
  {
   "cell_type": "markdown",
   "metadata": {},
   "source": [
    "# Part I - Prosper Loan Data\n",
    "## by Samuel Aderemi\n",
    "\n",
    "## Introduction\n",
    "> The Dataset I used for this visualization project is the ProsperLoans dataset. It comprises of 81 columns and over 113,000 records.\n",
    "It contains information about each loan listed with Prosper dating since 2005 to 2015. Some of the information it holds are _borrower's rate, listing category, term of loan, loan status, and many more_. I will focus on exploring and visualizing the attributes of the different loan statutes enlisted.\n",
    "\n",
    "\n",
    "## Preliminary Wrangling\n"
   ]
  },
  {
   "cell_type": "code",
   "execution_count": null,
   "metadata": {},
   "outputs": [],
   "source": [
    "# import all packages and set plots to be embedded inline\n",
    "import numpy as np\n",
    "import pandas as pd\n",
    "import matplotlib.pyplot as plt\n",
    "import seaborn as sns\n",
    "\n",
    "%matplotlib inline"
   ]
  },
  {
   "cell_type": "code",
   "execution_count": null,
   "metadata": {},
   "outputs": [],
   "source": [
    "loans  =  pd.read_csv('prosperLoanData.csv')"
   ]
  },
  {
   "cell_type": "code",
   "execution_count": null,
   "metadata": {},
   "outputs": [],
   "source": [
    "loans.shape\n"
   ]
  },
  {
   "cell_type": "code",
   "execution_count": null,
   "metadata": {},
   "outputs": [],
   "source": [
    "loans.info()"
   ]
  },
  {
   "cell_type": "code",
   "execution_count": null,
   "metadata": {},
   "outputs": [],
   "source": [
    "loans.describe()"
   ]
  },
  {
   "cell_type": "markdown",
   "metadata": {},
   "source": [
    "### What is the structure of your dataset?\n",
    "\n",
    "> 113,937 rows and 81 columns\n",
    "\n",
    "### What is/are the main feature(s) of interest in your dataset?\n",
    "\n",
    "> `LoanStatus` & `ProsperRating (Alpha)`\n",
    "\n",
    "### What features in the dataset do you think will help support your investigation into your feature(s) of interest?\n",
    "\n",
    "<li>BorrowerRate</li>\n",
    "<li>StatedMonthlyIncome</li>\n",
    "<li>ListingCategory</li>\n",
    "<li>EmploymentDuration</li>\n",
    "<li>IncomeRange</li>\n",
    "<li>TotalProsperLoans</li>\n",
    "<li>IncomeRange</li>\n"
   ]
  },
  {
   "cell_type": "markdown",
   "metadata": {},
   "source": [
    "##### Some Data Exploration & Cleaning"
   ]
  },
  {
   "cell_type": "markdown",
   "metadata": {},
   "source": [
    "Creating copy of Loans dataset"
   ]
  },
  {
   "cell_type": "code",
   "execution_count": null,
   "metadata": {},
   "outputs": [],
   "source": [
    "loans_sub  = loans.copy()\n",
    "loans_sub = loans_sub[[\"ListingKey\", \"LenderYield\", \"EmploymentStatus\", \"ListingCategory (numeric)\", \"StatedMonthlyIncome\", \"AmountDelinquent\", \"IncomeRange\", \"TotalProsperLoans\", \"EmploymentStatusDuration\", \"LoanStatus\", \"CreditGrade\", \"Term\", \"BorrowerRate\", 'ProsperRating (Alpha)']]"
   ]
  },
  {
   "cell_type": "code",
   "execution_count": null,
   "metadata": {},
   "outputs": [],
   "source": [
    "loans_sub[loans_sub.BorrowerRate == 0]"
   ]
  },
  {
   "cell_type": "markdown",
   "metadata": {},
   "source": [
    "For all entries of zero borrower rate, lender yield is negative"
   ]
  },
  {
   "cell_type": "code",
   "execution_count": null,
   "metadata": {},
   "outputs": [],
   "source": [
    "loans_sub.isna().sum()"
   ]
  },
  {
   "cell_type": "code",
   "execution_count": null,
   "metadata": {},
   "outputs": [],
   "source": [
    "loans_sub.ListingKey.duplicated().sum()"
   ]
  },
  {
   "cell_type": "markdown",
   "metadata": {},
   "source": [
    "Removing Duplicated records from loans dataset"
   ]
  },
  {
   "cell_type": "code",
   "execution_count": null,
   "metadata": {},
   "outputs": [],
   "source": [
    "loans_sub = loans_sub[~(loans_sub.ListingKey.duplicated())]\n",
    "loans_sub.ListingKey.duplicated().sum()"
   ]
  },
  {
   "cell_type": "markdown",
   "metadata": {},
   "source": [
    "Creating employment duration column in years"
   ]
  },
  {
   "cell_type": "code",
   "execution_count": null,
   "metadata": {},
   "outputs": [],
   "source": [
    "loans_sub['EmploymentStatusDuration(years)'] = loans_sub.EmploymentStatusDuration / 12"
   ]
  },
  {
   "cell_type": "markdown",
   "metadata": {},
   "source": [
    "Creating Listing Category column encoded as the reason for loan"
   ]
  },
  {
   "cell_type": "code",
   "execution_count": null,
   "metadata": {},
   "outputs": [],
   "source": [
    "def rename_listing_cat_values(loans_df):\n",
    "    \"\"\"Renaming of listing category to original listings\"\"\"\n",
    "\n",
    "    values_dict = {0:'Not Available', 1:'Debt Consolidation', 2:'Home Improvement', 3:'Business',\n",
    "                    4:'Personal Loan', 5:'Student Use', 6:'Auto', 7:'Other',\n",
    "                    8:'Baby&Adoption', 9:'Boat', 10:'Cosmetic Procedure', 11:'Engagement Ring',\n",
    "                    12:'Green Loans', 13:'Household Expenses', 14:'Large Purchases', 15:'Medical/Dental',\n",
    "                    16:'Motorcycle', 17:'RV', 18:'Taxes', 19:'Vacation', 20:'Wedding Loans'}\n",
    "\n",
    "    for value in values_dict:\n",
    "        if loans_df['ListingCategory (numeric)'] == value:\n",
    "            return values_dict[value]\n",
    "        \n",
    "\n",
    "\n",
    "loans_sub['ListingCategory'] = loans_sub.apply(rename_listing_cat_values, axis=1)\n",
    "\n",
    "loans_sub.info()"
   ]
  },
  {
   "cell_type": "markdown",
   "metadata": {},
   "source": [
    "Making of Ordinal Categories"
   ]
  },
  {
   "cell_type": "code",
   "execution_count": null,
   "metadata": {},
   "outputs": [],
   "source": [
    "ordinal_var_dict = {'IncomeRange': ['Not employed', 'Not displayed', '$0', '$1-24,999', '$25,000-49,999', '$50,000-74,999', '$75,000-99,999', '$100,000+'],\n",
    "                    'ProsperRating (Alpha)': ['AA', 'A', 'B', 'C', 'D', 'E', 'HR'],\n",
    "                    'CreditGrade': ['AA', 'A', 'B', 'C', 'D', 'E', 'HR', 'NC']\n",
    "                        }\n",
    "\n",
    "for var in ordinal_var_dict:\n",
    "    ordered_var = pd.api.types.CategoricalDtype(ordered=True, categories=ordinal_var_dict[var])\n",
    "\n",
    "    loans_sub[var] = loans_sub[var].astype(ordered_var)"
   ]
  },
  {
   "cell_type": "markdown",
   "metadata": {},
   "source": [
    "Making of more categorical columns"
   ]
  },
  {
   "cell_type": "code",
   "execution_count": null,
   "metadata": {},
   "outputs": [],
   "source": [
    "loans_sub.EmploymentStatus = loans_sub.EmploymentStatus.astype('category')\n",
    "loans_sub.ListingCategory = loans_sub.ListingCategory.astype('category')"
   ]
  },
  {
   "cell_type": "markdown",
   "metadata": {},
   "source": [
    "## Univariate Exploration"
   ]
  },
  {
   "cell_type": "markdown",
   "metadata": {},
   "source": [
    "##### What people generally apply for the Propser Loans and what are their reasons"
   ]
  },
  {
   "cell_type": "code",
   "execution_count": null,
   "metadata": {},
   "outputs": [],
   "source": [
    "order_type = loans_sub.EmploymentStatus.value_counts().index\n",
    "base_color = sns.color_palette()[0]\n",
    "\n",
    "figure = plt.figure(figsize=[12,8]);\n",
    "\n",
    "sns.countplot(data=loans_sub, x='EmploymentStatus', color=base_color, order=order_type);"
   ]
  },
  {
   "cell_type": "markdown",
   "metadata": {},
   "source": [
    "This shows that majority of the people who enlist for Proper Loans are of the working class majority"
   ]
  },
  {
   "cell_type": "code",
   "execution_count": null,
   "metadata": {},
   "outputs": [],
   "source": [
    "order_type = loans_sub.ListingCategory.value_counts().index\n",
    "\n",
    "figure = plt.figure(figsize=[12,8])\n",
    "\n",
    "sns.countplot(data=loans_sub, y='ListingCategory', color=base_color, order=order_type)"
   ]
  },
  {
   "cell_type": "markdown",
   "metadata": {},
   "source": [
    "###### More than half of the entire listing seek to pay off debts owed, and incure debt in the process. "
   ]
  },
  {
   "cell_type": "code",
   "execution_count": null,
   "metadata": {},
   "outputs": [],
   "source": [
    "order_type = loans_sub.IncomeRange.value_counts().index\n",
    "\n",
    "figure = plt.figure(figsize=[12,8]);\n",
    "\n",
    "sns.countplot(data=loans_sub, x='IncomeRange', color=base_color, order=order_type);"
   ]
  },
  {
   "cell_type": "markdown",
   "metadata": {},
   "source": [
    "###### It is more of the middle class who enlist for loans"
   ]
  },
  {
   "cell_type": "code",
   "execution_count": null,
   "metadata": {},
   "outputs": [],
   "source": [
    "sns.displot(data=loans_sub, x='EmploymentStatusDuration(years)');"
   ]
  },
  {
   "cell_type": "markdown",
   "metadata": {},
   "source": [
    "##### General Structure of Prosper Loans"
   ]
  },
  {
   "cell_type": "code",
   "execution_count": null,
   "metadata": {},
   "outputs": [],
   "source": [
    "sorted_ratings = loans_sub['ProsperRating (Alpha)'].value_counts()\n",
    "\n",
    "figure = plt.figure(figsize=[10,6])\n",
    "\n",
    "plt.pie(sorted_ratings, labels=sorted_ratings.index, startangle=90, counterclock=False)\n",
    "\n",
    "plt.title('Prosper Rating')\n",
    "plt.axis('square');\n",
    "plt.legend(loc=4);"
   ]
  },
  {
   "cell_type": "markdown",
   "metadata": {},
   "source": [
    "This shows most of the loans enlisted with Prosper (from 2009) are of intermediate risk i.e between low risk (AA) to highly risky (HR)"
   ]
  },
  {
   "cell_type": "code",
   "execution_count": null,
   "metadata": {},
   "outputs": [],
   "source": [
    "sorted_ratings = loans_sub['CreditGrade'].value_counts()\n",
    "\n",
    "figure = plt.figure(figsize=[10,6])\n",
    "\n",
    "plt.pie(sorted_ratings, labels=sorted_ratings.index, startangle=90, counterclock=False)\n",
    "\n",
    "plt.axis('square');\n",
    "plt.legend(loc=4);"
   ]
  },
  {
   "cell_type": "code",
   "execution_count": null,
   "metadata": {},
   "outputs": [],
   "source": [
    "order_type = loans_sub.LoanStatus.value_counts().index\n",
    "\n",
    "figure = plt.figure(figsize=[12,8]);\n",
    "\n",
    "sns.countplot(data=loans_sub, y='LoanStatus', color=base_color, order=order_type);"
   ]
  },
  {
   "cell_type": "markdown",
   "metadata": {},
   "source": [
    "Good news is that more than 80% of Prosper Loans are being paid"
   ]
  },
  {
   "cell_type": "code",
   "execution_count": null,
   "metadata": {},
   "outputs": [],
   "source": [
    "log_binsize = 0.05\n",
    "bins = 10 ** np.arange(0, np.log(loans_sub['StatedMonthlyIncome'].max())+log_binsize, log_binsize)\n",
    "\n",
    "plt.figure(figsize=[8,5])\n",
    "plt.hist(data=loans_sub, x='StatedMonthlyIncome', bins=bins)\n",
    "plt.xscale('log')\n",
    "plt.xlim([80, loans_sub['StatedMonthlyIncome'].max()+log_binsize])\n",
    "plt.xticks([100, 200, 500, 1e3, 2e3, 5e3, 1e4, 2e4, 5e4, 1e5, 2e5, 5e5, 1e6, 2e6], [100, 200, 500, '1K', '2K', '5K', '1OK', '20K', '50K', '100K', '200K', '500K', '1M', '2M'])\n",
    "plt.xlabel('Monthly Income ($)')\n",
    "plt.show()"
   ]
  },
  {
   "cell_type": "markdown",
   "metadata": {},
   "source": [
    "Monthly Income is akwardly skewed on both sides, with with a modal income neighbouring $5,000"
   ]
  },
  {
   "cell_type": "code",
   "execution_count": null,
   "metadata": {},
   "outputs": [],
   "source": [
    "sns.countplot(data=loans_sub, x='TotalProsperLoans', color=base_color);\n",
    "# plt.xlabel('No. of Prosper Loans')"
   ]
  },
  {
   "cell_type": "markdown",
   "metadata": {},
   "source": [
    "\n",
    "\n",
    ">**Rubric Tip**: Visualizations should depict the data appropriately so that the plots are easily interpretable. You should choose an appropriate plot type, data encodings, and formatting as needed. The formatting may include setting/adding the title, labels, legend, and comments. Also, do not overplot or incorrectly plot ordinal data."
   ]
  },
  {
   "cell_type": "markdown",
   "metadata": {},
   "source": [
    "### Discuss the distribution(s) of your variable(s) of interest. Were there any unusual points? Did you need to perform any transformations?\n",
    "\n",
    "> Exploring and Visualizing the sect of people who enlist for the Loans, the working class are the most frequent. Those who earn in the range of 25K to 75K account for the highest applications received. \n",
    "> <p>Prosper also receive most applications from the  working class who have spent between 0 to 10 years in employment, 20 years and above don't make much applications as compared with the previously describe. The unemployed and 0 earners also don't make significant applications </p>\n",
    "> <p>Debt consolidation is the major driver for borrowers of the Prosper loan, business intriguingly comes in 5th position</p>\n",
    "><p>Prosper as of effect from 2009 when she started using the Prosper Rating system, assessed most of it's investment as intermediate risk. The Prosper Rating pie-chart shows lowest risk, AA and highly risky, HR have the smallest chunks while ratings E, D, A, B, C have the biggest portions in that order. The previously used grading system, Credit Grade however, did not follow this pattern, with lowest risk, AA and highly risky HR coming in before A</p>\n",
    "> <p>Number of previously taken loans dwindles down from 1 to 8. The stated monthly income shows a degree of skewness, with 75 percentile below 10K and maximum value above a million. A log tranformation was applied in order to make a decent plot. Earners with the range of 4K to 6K constitute of the highest applicants</p>\n",
    "\n",
    "### Of the features you investigated, were there any unusual distributions? Did you perform any operations on the data to tidy, adjust, or change the form of the data? If so, why did you do this?\n",
    "\n",
    "> The monthly income had values has from 0 percentile to 75 percentile less than 10K with few outliers above 100K\n",
    "<li>The Employment duration had to be re-encoded into years instead of months for proper scaling</li>\n",
    "<li>The numeric listing category had to be sorted into a categorical column represented by the exact reason for applying instead of numeric representations</li>\n",
    "<li>IncomeRange, ProsperRange and CreditGrade were categorized ordinally for better clearer visualization</li>\n",
    "<li>Employment status also was transformed to a categorical column</li>"
   ]
  },
  {
   "cell_type": "markdown",
   "metadata": {},
   "source": [
    "## Bivariate Exploration\n",
    "\n",
    "> In this section, investigate relationships between pairs of variables in your\n",
    "data. Make sure the variables that you cover here have been introduced in some\n",
    "fashion in the previous section (univariate exploration)."
   ]
  },
  {
   "cell_type": "code",
   "execution_count": null,
   "metadata": {},
   "outputs": [],
   "source": [
    "loans_sub_samp = loans_sub.sample(n=2000, replace = False)\n",
    "\n",
    "\n",
    "def boxgrid(x, y, **kwargs):\n",
    "    \"\"\" Utilizes Seaborn's boxplot to make ploting easier\"\"\"\n",
    "    default_color = sns.color_palette()[0]\n",
    "    sns.boxplot(x=x, y=y, color=default_color)\n",
    "\n",
    "plt.figure(figsize = [10, 20])\n",
    "g = sns.PairGrid(data = loans_sub_samp, x_vars = ['BorrowerRate', 'EmploymentStatusDuration(years)'], y_vars = 'LoanStatus', height=6, aspect=1)\n",
    "g.map(boxgrid)\n",
    "plt.show();"
   ]
  },
  {
   "cell_type": "markdown",
   "metadata": {},
   "source": [
    "People who have completed their payments and currently making payments have much outliers above 20 years of employment"
   ]
  },
  {
   "cell_type": "code",
   "execution_count": null,
   "metadata": {},
   "outputs": [],
   "source": [
    "plt.figure(figsize = [20, 15])\n",
    "g = sns.PairGrid(data = loans_sub, y_vars = ['StatedMonthlyIncome'], x_vars = 'LoanStatus', height=6, aspect=3)\n",
    "g.map(boxgrid)\n",
    "plt.yscale('log')\n",
    "plt.yticks([100, 200, 500, 1e3, 2e3, 5e3, 1e4, 2e4, 5e4, 1e5, 2e5, 5e5, 1e6], [100, 200, 500, '1K', '2K', '5K', '1OK', '20K', '50K', '100K',\n",
    "                  '200K', '500K', '1M'])\n",
    "\n",
    "plt.xticks(rotation=15);\n",
    "plt.ylim(80, 1e6);\n",
    "plt.ylabel('StatedMonthlyIncome ($)');\n",
    "plt.show();"
   ]
  },
  {
   "cell_type": "code",
   "execution_count": null,
   "metadata": {},
   "outputs": [],
   "source": [
    "g = sns.PairGrid(data = loans_sub, y_vars = ['StatedMonthlyIncome'], x_vars = 'LoanStatus', height=6, aspect=3)\n",
    "g.map(boxgrid)\n",
    "plt.yscale('log')\n",
    "plt.yticks([2e3, 3e3, 4e3, 5e3, 6e3, 1e4], ['2K', '3K', '4K', '5K', '6K', '1OK'])\n",
    "\n",
    "plt.xticks(rotation=15)\n",
    "plt.ylim(2e3, 1e4)\n",
    "plt.ylabel('StatedMonthlyIncome ($)')\n",
    "plt.show();"
   ]
  },
  {
   "cell_type": "markdown",
   "metadata": {},
   "source": [
    "Current and final payments have median Monthly Income of slightly above 5K. Completed has an income of between 4K and 5K but has outliers approaching a 1M monthly income. Cancelled payments have just below 3K, Defaulted just below 4K. Past due payments have stated income to be with steady then declining within the range of slighlty above 4K to 3.5K"
   ]
  },
  {
   "cell_type": "code",
   "execution_count": null,
   "metadata": {},
   "outputs": [],
   "source": [
    "g = sns.PairGrid(data = loans_sub, y_vars = ['StatedMonthlyIncome'], x_vars = 'CreditGrade', height=6, aspect=3)\n",
    "g.map(boxgrid)\n",
    "plt.yscale('log')\n",
    "plt.yticks([100, 200, 500, 1e3, 2e3, 5e3, 1e4, 2e4, 5e4, 1e5, 2e5, 5e5, 1e6], [100, 200, 500, '1K', '2K', '5K', '1OK', '20K', '50K', '100K',\n",
    "                  '200K', '500K', '1M'])\n",
    "\n",
    "plt.ylim(80, 1e6)\n",
    "plt.ylabel('StatedMonthlyIncome ($)')\n",
    "plt.show();"
   ]
  },
  {
   "cell_type": "markdown",
   "metadata": {},
   "source": [
    "The median monthly Income of High Risk and No Credit investments is the lowest of the distribution in that order with the lowest outliers on monthly income"
   ]
  },
  {
   "cell_type": "code",
   "execution_count": null,
   "metadata": {},
   "outputs": [],
   "source": [
    "plt.figure(figsize=[20,10])\n",
    "sns.countplot(data=loans_sub, x='LoanStatus', hue='CreditGrade', palette='Blues')\n",
    "plt.xticks(rotation=15);"
   ]
  },
  {
   "cell_type": "markdown",
   "metadata": {},
   "source": [
    "As clear shown, the C and HR show negative tendencies of paying up loan. The Defaulted has a peak of a HR loan while the Charged off has a \n",
    "pen ultimate peak of HR also. For the completed loan status however, the HR  has a low count, showing once a again that they are likely to not \n",
    "pay up than they do. low risk to average risk loans AA, A, B, C,D show that they complete their loans more often than not. The C grade which is of the \n",
    "average risk show a neutral loan Status"
   ]
  },
  {
   "cell_type": "code",
   "execution_count": null,
   "metadata": {},
   "outputs": [],
   "source": [
    "plt.figure(figsize=[20,10])\n",
    "sns.countplot(data=loans_sub, x='LoanStatus', hue='ProsperRating (Alpha)', palette='Blues')\n",
    "plt.xticks(rotation=15);"
   ]
  },
  {
   "cell_type": "code",
   "execution_count": null,
   "metadata": {},
   "outputs": [],
   "source": [
    "plt.figure(figsize=[20,10])\n",
    "sns.countplot(data=loans_sub, x='LoanStatus', hue='ProsperRating (Alpha)', palette='Blues')\n",
    "plt.xticks(rotation=15);\n",
    "plt.ylim(1,400)"
   ]
  },
  {
   "cell_type": "markdown",
   "metadata": {},
   "source": [
    "For the Loan Statutes of Completed, Current and Final Payments in Progress are all favoured by intermediate risks. The Lowest risk AA is of low count in all Loan Status, while more risky ratings D, E, HR are high shooters for all other loan statutes that are defaulting in payments"
   ]
  },
  {
   "cell_type": "markdown",
   "metadata": {},
   "source": [
    "#"
   ]
  },
  {
   "cell_type": "markdown",
   "metadata": {},
   "source": [
    "Loan Status, Credit Grade and Prosper Rating relationship with Borrower Rate"
   ]
  },
  {
   "cell_type": "code",
   "execution_count": null,
   "metadata": {},
   "outputs": [],
   "source": [
    "plt.figure(figsize=[12,8])\n",
    "sns.barplot(data=loans_sub, x='BorrowerRate', y='LoanStatus', color=sns.color_palette()[5])"
   ]
  },
  {
   "cell_type": "markdown",
   "metadata": {},
   "source": [
    "The Chart above shows the fact that loans with lower borrower rate have a higher chance of being paid back and in due time\n",
    "Loans with borrower rates above 0.20 are more likely to default on their payments and prolong the payment period than is due."
   ]
  },
  {
   "cell_type": "code",
   "execution_count": null,
   "metadata": {},
   "outputs": [],
   "source": [
    "plt.figure(figsize=[12,8])\n",
    "sns.barplot(data=loans_sub, x='CreditGrade', y='BorrowerRate', palette=sns.color_palette('viridis', 9))"
   ]
  },
  {
   "cell_type": "markdown",
   "metadata": {},
   "source": [
    "The Chart shows that borrower rate is a major determinant of credit grade"
   ]
  },
  {
   "cell_type": "code",
   "execution_count": null,
   "metadata": {},
   "outputs": [],
   "source": [
    "plt.figure(figsize=[12,8])\n",
    "sns.barplot(data=loans_sub, x='ProsperRating (Alpha)', y='BorrowerRate', palette=sns.color_palette('viridis', 9))"
   ]
  },
  {
   "cell_type": "markdown",
   "metadata": {},
   "source": [
    "This proves again that borrower rate is the major determinant of Prosper's Rating"
   ]
  },
  {
   "cell_type": "markdown",
   "metadata": {},
   "source": [
    "### Talk about some of the relationships you observed in this part of the investigation. How did the feature(s) of interest vary with other features in the dataset?\n",
    "\n",
    "> `Current` and `final payments` have median Monthly Income of slightly above 5K. `Completed` has an income of between 4K and 5K but has outliers approaching a 1M monthly income. `Cancelled` payments have just below 3K, `Defaulted` just below 4K. `Past due` payments have stated income to be with steady then declining within the range of slighlty above 4K to 3.5K\n",
    "> People who have completed their payments and currently making payments have much outliers above 20 years of employment\n",
    "> Loans with lower borrower rate have a higher chance of being paid back and in due time. Loans with borrower rates above 0.20 are more likely to default on their payments and prolong the payment period than is due.\n",
    "> For the Loan Statutes of `Completed`, `Current` and `Final Payments` in Progress are all favoured by intermediate risks. The Lowest risk AA is of low count in all Loan Status, while more risky ratings D, E, HR are high shooters for all other loan statutes that are defaulting in payments\n",
    "> C and HR show negative tendencies of paying up loan. The Defaulted has a peak of a HR loan while the Charged off has a \n",
    "pen ultimate peak of HR also. For the completed loan status however, the HR  has a low count, showing once a again that they are likely to not \n",
    "pay up than they do. low risk to average risk loans AA, A, B, C,D show that they complete their loans more often than not. The C grade which is of the \n",
    "average risk show a neutral loan Status\n",
    "\n",
    "### Did you observe any interesting relationships between the other features (not the main feature(s) of interest)?\n",
    "\n",
    "> The median monthly Income of High Risk and No Credit investments is the lowest of the distribution in that order and also consist of  lowest outliers of monthly income\n",
    "> `BorrowerRate` shows uniform correlation with `CreditGrade` and `ProserRating`. Mininum to maximum borrower rates climbing from `AA` to `HR`"
   ]
  },
  {
   "cell_type": "markdown",
   "metadata": {},
   "source": [
    "## Multivariate Exploration\n",
    "\n",
    "> Create plots of three or more variables to investigate your data even\n",
    "further. Make sure that your investigations are justified, and follow from\n",
    "your work in the previous sections."
   ]
  },
  {
   "cell_type": "code",
   "execution_count": null,
   "metadata": {},
   "outputs": [],
   "source": [
    "credit_grade_df = loans_sub.loc[loans_sub['LoanStatus'].isin(['Cancelled', 'Chargedoff', 'Completed', 'Defaulted'])]\n",
    "borrow_rate_means = credit_grade_df.groupby(['LoanStatus', 'CreditGrade']).mean()['BorrowerRate']\n",
    "borrow_rate_means = borrow_rate_means.reset_index(name = 'BorrowRate_avg')\n",
    "borrow_rate_means = borrow_rate_means.pivot(index = 'LoanStatus', columns = 'CreditGrade',\n",
    "                            values = 'BorrowRate_avg')\n",
    "sns.heatmap(borrow_rate_means, annot = True, fmt = '.3f',\n",
    "           cbar_kws = {'label' : 'mean(borrower_rate_avg)'})"
   ]
  },
  {
   "cell_type": "code",
   "execution_count": null,
   "metadata": {},
   "outputs": [],
   "source": [
    "plt.figure(figsize=[8,8])\n",
    "\n",
    "borrow_rate_means = loans_sub.groupby(['LoanStatus', 'ProsperRating (Alpha)']).mean()['BorrowerRate']\n",
    "borrow_rate_means = borrow_rate_means.reset_index(name = 'BorrowRate_avg')\n",
    "borrow_rate_means = borrow_rate_means.pivot(index = 'LoanStatus', columns = 'ProsperRating (Alpha)',\n",
    "                            values = 'BorrowRate_avg')\n",
    "sns.heatmap(borrow_rate_means, annot = True, fmt = '.3f',\n",
    "           cbar_kws = {'label' : 'mean(borrower_rate)'})"
   ]
  },
  {
   "cell_type": "markdown",
   "metadata": {},
   "source": [
    "The above two Multivariate heatmaps show that Predicted Highly Risky Loans with a high enough borrower rate have a greater tendency\n",
    "of a not paying up on the loan borrowed while those who have a low borrower rate and little to medium risk involved proved to be faithful loan payers"
   ]
  },
  {
   "cell_type": "markdown",
   "metadata": {},
   "source": [
    "### Talk about some of the relationships you observed in this part of the investigation. Were there features that strengthened each other in terms of looking at your feature(s) of interest?\n",
    "\n",
    "> Low borrower's rate account for loan statuses with minimum risk while high borrower rates account for investment with higher risk involved\n",
    "\n",
    "### Were there any interesting or surprising interactions between features?\n",
    "\n",
    "> Higher mean borrower rates accounted for loan payment statutes which are either defaulting or defaulted, with values increasing across the trend of risk increasing risk involved"
   ]
  },
  {
   "cell_type": "markdown",
   "metadata": {},
   "source": [
    "## Conclusions\n",
    "> In exploring and visualizing of this data it was discovered that the working middle class are major applicants of Prosper Loans usually with working experience of not more than 15 years. The major driver for applying for these loans are debt consolidations, unstated reasons, home improvements and finally business related. Prosper has a system of rating each loan application it receives, and it generally consists of intermediate risk investments. Loan applications with $5K as monthly income have a higher tendency of paying up their borrowed loans.\n",
    "Futher insights reveal that borrower rate is a major determinant of both Loan Status and Prosper rating. The lower the rate the more likely the loan will be paid and in due time, in likewise manner the a lower risk score will be assigned, the converse also is very much true.\n"
   ]
  }
 ],
 "metadata": {
  "kernelspec": {
   "display_name": "Python [conda env:root] *",
   "language": "python",
   "name": "conda-root-py"
  },
  "language_info": {
   "codemirror_mode": {
    "name": "ipython",
    "version": 3
   },
   "file_extension": ".py",
   "mimetype": "text/x-python",
   "name": "python",
   "nbconvert_exporter": "python",
   "pygments_lexer": "ipython3",
   "version": "3.9.7"
  },
  "vscode": {
   "interpreter": {
    "hash": "e8a0bcc7155301a1b9a2467b12422c3f6af08f2ccf10c3830d1459b6ba0f78cc"
   }
  }
 },
 "nbformat": 4,
 "nbformat_minor": 2
}
