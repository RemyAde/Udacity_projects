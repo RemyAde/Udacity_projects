{
 "cells": [
  {
   "cell_type": "markdown",
   "metadata": {
    "slideshow": {
     "slide_type": "slide"
    }
   },
   "source": [
    "# Effects of  Prosper Loan Characteristics on Their Outcomes\n",
    "## by Samuel Aderemi"
   ]
  },
  {
   "cell_type": "markdown",
   "metadata": {
    "slideshow": {
     "slide_type": "slide"
    }
   },
   "source": [
    "## Investigation Overview\n",
    "\n",
    "\n",
    "> In this investigation, I wanted to look at the factors that affect the loan status of Prosper loans. The main focus was on the borrower's rate and rating systems (CreditGrade & ProsperRating)\n",
    "\n",
    "\n",
    "## Dataset Overview\n",
    "\n",
    "> The data consisted of loan statuses and attributes of approximately 113,937 enlisted loans. The attributes included stated monthly income, employment duration as well as listing category for each loan. Eighty-one of the data points were removed from the analysis due to duplicated records"
   ]
  },
  {
   "cell_type": "code",
   "execution_count": null,
   "metadata": {
    "slideshow": {
     "slide_type": "skip"
    }
   },
   "outputs": [],
   "source": [
    "# import all packages and set plots to be embedded inline\n",
    "import numpy as np\n",
    "import pandas as pd\n",
    "import matplotlib.pyplot as plt\n",
    "import seaborn as sns\n",
    "\n",
    "%matplotlib inline\n",
    "\n",
    "# suppress warnings from final output\n",
    "import warnings\n",
    "warnings.simplefilter(\"ignore\")"
   ]
  },
  {
   "cell_type": "code",
   "execution_count": null,
   "metadata": {
    "slideshow": {
     "slide_type": "skip"
    }
   },
   "outputs": [],
   "source": [
    "# load in the dataset into a pandas dataframe\n",
    "loans  =  pd.read_csv('prosperLoanData.csv')\n",
    "loans_sub  = loans.copy()\n",
    "loans_sub = loans_sub[[\"ListingKey\", \"LenderYield\", \"EmploymentStatus\", \"ListingCategory (numeric)\", \"StatedMonthlyIncome\", \"AmountDelinquent\", \"IncomeRange\", \"TotalProsperLoans\", \"EmploymentStatusDuration\", \"LoanStatus\", \"CreditGrade\", \"Term\", \"BorrowerRate\", 'ProsperRating (Alpha)']]\n",
    "loans_sub = loans_sub[~(loans_sub.ListingKey.duplicated())]\n",
    "loans_sub.ListingKey.duplicated().sum()"
   ]
  },
  {
   "cell_type": "code",
   "execution_count": null,
   "metadata": {
    "slideshow": {
     "slide_type": "skip"
    }
   },
   "outputs": [],
   "source": [
    "def rename_listing_cat_values(loans_df):\n",
    "    \"\"\"Creates listing category column that uses the original reasons for listing\"\"\"\n",
    "\n",
    "    values_dict = {0:'Not Available', 1:'Debt Consolidation', 2:'Home Improvement', 3:'Business',\n",
    "                    4:'Personal Loan', 5:'Student Use', 6:'Auto', 7:'Other',\n",
    "                    8:'Baby&Adoption', 9:'Boat', 10:'Cosmetic Procedure', 11:'Engagement Ring',\n",
    "                    12:'Green Loans', 13:'Household Expenses', 14:'Large Purchases', 15:'Medical/Dental',\n",
    "                    16:'Motorcycle', 17:'RV', 18:'Taxes', 19:'Vacation', 20:'Wedding Loans'}\n",
    "\n",
    "    for value in values_dict:\n",
    "        if loans_df['ListingCategory (numeric)'] == value:\n",
    "            return values_dict[value]\n",
    "        \n",
    "\n",
    "\n",
    "loans_sub['ListingCategory'] = loans_sub.apply(rename_listing_cat_values, axis=1)"
   ]
  },
  {
   "cell_type": "code",
   "execution_count": null,
   "metadata": {
    "slideshow": {
     "slide_type": "skip"
    }
   },
   "outputs": [],
   "source": [
    "# making of categorical columns \n",
    "ordinal_var_dict = {'IncomeRange': ['Not employed', 'Not displayed', '$0', '$1-24,999', '$25,000-49,999', '$50,000-74,999', '$75,000-99,999', '$100,000+'],\n",
    "                    'ProsperRating (Alpha)': ['AA', 'A', 'B', 'C', 'D', 'E', 'HR'],\n",
    "                    'CreditGrade': ['AA', 'A', 'B', 'C', 'D', 'E', 'HR', 'NC']\n",
    "                        }\n",
    "\n",
    "for var in ordinal_var_dict:\n",
    "    ordered_var = pd.api.types.CategoricalDtype(ordered=True, categories=ordinal_var_dict[var])\n",
    "\n",
    "    loans_sub[var] = loans_sub[var].astype(ordered_var)\n",
    "\n",
    "loans_sub.EmploymentStatus = loans_sub.EmploymentStatus.astype('category')\n",
    "loans_sub.ListingCategory = loans_sub.ListingCategory.astype('category')"
   ]
  },
  {
   "cell_type": "markdown",
   "metadata": {
    "slideshow": {
     "slide_type": "slide"
    }
   },
   "source": [
    "## Distribution of Monthly Income\n",
    "\n",
    "> Monthly Income in the dataset take on a very large range of values, from about \\$0 at the lowest, to about \\$1.75M at the highest. Plotted on a logarithmic scale, the distribution of monthly income is somewhat normally distributed"
   ]
  },
  {
   "cell_type": "code",
   "execution_count": null,
   "metadata": {
    "slideshow": {
     "slide_type": "subslide"
    }
   },
   "outputs": [],
   "source": [
    "log_binsize = 0.05\n",
    "bins = 10 ** np.arange(0, np.log(loans_sub['StatedMonthlyIncome'].max())+log_binsize, log_binsize)\n",
    "\n",
    "plt.figure(figsize=[8,5])\n",
    "plt.hist(data=loans_sub, x='StatedMonthlyIncome', bins=bins)\n",
    "plt.xscale('log')\n",
    "plt.xlim([80, loans_sub['StatedMonthlyIncome'].max()+log_binsize])\n",
    "plt.xticks([100, 200, 500, 1e3, 2e3, 5e3, 1e4, 2e4, 5e4, 1e5, 2e5, 5e5, 1e6, 2e6], [100, 200, 500, '1K', '2K', '5K', '1OK', '20K', '50K', '100K', '200K', '500K', '1M', '2M'])\n",
    "plt.xlabel('Monthly Income ($)')\n",
    "plt.ylabel('Count')\n",
    "plt.title('Distribution of Monthly Income')\n",
    "plt.show()"
   ]
  },
  {
   "cell_type": "markdown",
   "metadata": {
    "collapsed": true,
    "slideshow": {
     "slide_type": "slide"
    }
   },
   "source": [
    "## Loan Status vs. Borrower Rate\n",
    "\n",
    "> Payments made in due time and those that that are already in succession to be completed have borrower rates below 0.20, while those which are defaulting have rates above 0.20"
   ]
  },
  {
   "cell_type": "code",
   "execution_count": null,
   "metadata": {
    "slideshow": {
     "slide_type": "subslide"
    }
   },
   "outputs": [],
   "source": [
    "plt.figure(figsize=[12,8])\n",
    "sns.barplot(data=loans_sub, x='BorrowerRate', y='LoanStatus', color=sns.color_palette()[5])\n",
    "plt.title('Loan Status vs. Borrower Rate');"
   ]
  },
  {
   "cell_type": "markdown",
   "metadata": {
    "slideshow": {
     "slide_type": "slide"
    }
   },
   "source": [
    "## Borrower Rate vs. Prosper Rating\n",
    "There is a steady decline in borrowers rate as the level of classified risk decreases. Minimal risk have rates slightly above 0.15, intermediates, slightly above 0.25 while the much risky investments above 0.25\n"
   ]
  },
  {
   "cell_type": "code",
   "execution_count": null,
   "metadata": {
    "slideshow": {
     "slide_type": "subslide"
    }
   },
   "outputs": [],
   "source": [
    "plt.figure(figsize=[12,8])\n",
    "sns.barplot(data=loans_sub, x='ProsperRating (Alpha)', y='BorrowerRate', palette=sns.color_palette('viridis', 9))\n",
    "plt.title('Borrower Rate vs. Prosper Rating');"
   ]
  },
  {
   "cell_type": "markdown",
   "metadata": {
    "slideshow": {
     "slide_type": "slide"
    }
   },
   "source": [
    "## Mean Borrower Rates for Loan Status and Credit Grade\n",
    "\n",
    "> Plotting only valid values of Credit Grade and grouping the mean of Borrower Rate for both Loan Status and Credit Grade produces a clear relationship of all variables. Lower risk investment and show minimum values borrower rates for completed payment. The completed loan status does show lower borrower rates across all risk classification, though increases along the level of rated risk. Other loan Statuses: Charged off and Defaulted show a higher disribution of mean borrower rates and increase in the order of rated risk\n",
    "\n"
   ]
  },
  {
   "cell_type": "code",
   "execution_count": null,
   "metadata": {
    "slideshow": {
     "slide_type": "subslide"
    }
   },
   "outputs": [],
   "source": [
    "credit_grade_df = loans_sub.loc[loans_sub['LoanStatus'].isin(['Cancelled', 'Chargedoff', 'Completed', 'Defaulted'])]\n",
    "borrow_rate_means = credit_grade_df.groupby(['LoanStatus', 'CreditGrade']).mean()['BorrowerRate']\n",
    "borrow_rate_means = borrow_rate_means.reset_index(name = 'BorrowRate_avg')\n",
    "borrow_rate_means = borrow_rate_means.pivot(index = 'LoanStatus', columns = 'CreditGrade',\n",
    "                            values = 'BorrowRate_avg')\n",
    "sns.heatmap(borrow_rate_means, annot = True, fmt = '.3f',\n",
    "           cbar_kws = {'label' : 'mean(borrower_rate_avg)'})\n",
    "\n",
    "plt.title('Matrix of Loan Status & Credit Grade for Mean Borrower Rate');"
   ]
  },
  {
   "cell_type": "code",
   "execution_count": null,
   "metadata": {
    "slideshow": {
     "slide_type": "skip"
    }
   },
   "outputs": [],
   "source": [
    "!jupyter nbconvert Part_II_slide_deck_template.ipynb --to slides --post serve --no-input --no-prompt"
   ]
  }
 ],
 "metadata": {
  "celltoolbar": "Slideshow",
  "kernelspec": {
   "display_name": "Python 3 (ipykernel)",
   "language": "python",
   "name": "python3"
  },
  "language_info": {
   "codemirror_mode": {
    "name": "ipython",
    "version": 3
   },
   "file_extension": ".py",
   "mimetype": "text/x-python",
   "name": "python",
   "nbconvert_exporter": "python",
   "pygments_lexer": "ipython3",
   "version": "3.9.7"
  },
  "vscode": {
   "interpreter": {
    "hash": "e8a0bcc7155301a1b9a2467b12422c3f6af08f2ccf10c3830d1459b6ba0f78cc"
   }
  }
 },
 "nbformat": 4,
 "nbformat_minor": 2
}
